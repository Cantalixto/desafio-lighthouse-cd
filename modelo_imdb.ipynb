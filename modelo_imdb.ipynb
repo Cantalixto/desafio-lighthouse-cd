{
  "nbformat": 4,
  "nbformat_minor": 0,
  "metadata": {
    "colab": {
      "provenance": []
    },
    "kernelspec": {
      "name": "python3",
      "display_name": "Python 3"
    },
    "language_info": {
      "name": "python"
    }
  },
  "cells": [
    {
      "cell_type": "markdown",
      "source": [
        "# Modelagem Preditiva – IMDb\n",
        "\n",
        "Nesta etapa do projeto, foi desenvolvido um modelo preditivo para estimar a nota de filmes no IMDb com base em variáveis como duração, gênero, bilheteria, número de votos e avaliação da crítica. O objetivo é identificar padrões que possam orientar decisões estratégicas na escolha de futuras produções cinematográficas.\n",
        "\n",
        "O processo inclui:\n",
        "- Seleção e transformação de variáveis relevantes\n",
        "- Codificação de gêneros com One-Hot Encoding\n",
        "- Treinamento de modelo de regressão (Random Forest)\n",
        "- Avaliação de desempenho com métricas como MSE e R²\n",
        "- Teste prático com dados reais de filmes conhecidos\n",
        "\n",
        "Este notebook complementa a análise exploratória e os relatórios interpretativos, consolidando a etapa de previsão dentro do desafio Lighthouse CD."
      ],
      "metadata": {
        "id": "FvyDh9vdA_av"
      }
    },
    {
      "cell_type": "code",
      "source": [
        "# Instalação de Bibliotecas\n",
        "!pip install scikit-learn pandas numpy joblib\n",
        "\n",
        "# Importando as bibliotecas essenciais.\n",
        "import pandas as pd\n",
        "import numpy as np\n",
        "import joblib\n",
        "import joblib\n",
        "import matplotlib.pyplot as plt\n",
        "from sklearn.model_selection import train_test_split\n",
        "from sklearn.ensemble import RandomForestRegressor\n",
        "from sklearn.metrics import mean_squared_error, r2_score\n",
        "\n",
        "print(\"Bibliotecas importadas com sucesso!\")"
      ],
      "metadata": {
        "colab": {
          "base_uri": "https://localhost:8080/"
        },
        "collapsed": true,
        "id": "bYj98jMzb8YC",
        "outputId": "2de4f2ae-da01-4055-e8bc-9c7f13894526"
      },
      "execution_count": 25,
      "outputs": [
        {
          "output_type": "stream",
          "name": "stdout",
          "text": [
            "Requirement already satisfied: scikit-learn in /usr/local/lib/python3.12/dist-packages (1.6.1)\n",
            "Requirement already satisfied: pandas in /usr/local/lib/python3.12/dist-packages (2.2.2)\n",
            "Requirement already satisfied: numpy in /usr/local/lib/python3.12/dist-packages (2.0.2)\n",
            "Requirement already satisfied: joblib in /usr/local/lib/python3.12/dist-packages (1.5.2)\n",
            "Requirement already satisfied: scipy>=1.6.0 in /usr/local/lib/python3.12/dist-packages (from scikit-learn) (1.16.1)\n",
            "Requirement already satisfied: threadpoolctl>=3.1.0 in /usr/local/lib/python3.12/dist-packages (from scikit-learn) (3.6.0)\n",
            "Requirement already satisfied: python-dateutil>=2.8.2 in /usr/local/lib/python3.12/dist-packages (from pandas) (2.9.0.post0)\n",
            "Requirement already satisfied: pytz>=2020.1 in /usr/local/lib/python3.12/dist-packages (from pandas) (2025.2)\n",
            "Requirement already satisfied: tzdata>=2022.7 in /usr/local/lib/python3.12/dist-packages (from pandas) (2025.2)\n",
            "Requirement already satisfied: six>=1.5 in /usr/local/lib/python3.12/dist-packages (from python-dateutil>=2.8.2->pandas) (1.17.0)\n",
            "Bibliotecas importadas com sucesso!\n"
          ]
        }
      ]
    },
    {
      "cell_type": "code",
      "source": [
        "# Carregamento dos Dados\n",
        "from google.colab import drive\n",
        "drive.mount('/content/drive')\n",
        "\n",
        "caminho_do_arquivo = '/content/drive/MyDrive/Análise IMDB/desafio_indicium_imdb.csv'\n",
        "\n",
        "try:\n",
        "    df = pd.read_csv(caminho_do_arquivo)\n",
        "    print(\"\\nDados carregados! Visualizando as 5 primeiras linhas:\")\n",
        "    print(df.head())\n",
        "    print(\"\\nInformações sobre o dataset:\")\n",
        "    df.info()\n",
        "except FileNotFoundError:\n",
        "    print(f\"\\nErro: O arquivo '{caminho_do_arquivo}' não foi encontrado.\")"
      ],
      "metadata": {
        "colab": {
          "base_uri": "https://localhost:8080/"
        },
        "collapsed": true,
        "id": "ezhzpB-jcTXJ",
        "outputId": "357acc16-8a5f-4207-911c-79934b5cce00"
      },
      "execution_count": 26,
      "outputs": [
        {
          "output_type": "stream",
          "name": "stdout",
          "text": [
            "Drive already mounted at /content/drive; to attempt to forcibly remount, call drive.mount(\"/content/drive\", force_remount=True).\n",
            "\n",
            "Dados carregados! Visualizando as 5 primeiras linhas:\n",
            "   Unnamed: 0                                   Series_Title Released_Year  \\\n",
            "0           1                                  The Godfather          1972   \n",
            "1           2                                The Dark Knight          2008   \n",
            "2           3                         The Godfather: Part II          1974   \n",
            "3           4                                   12 Angry Men          1957   \n",
            "4           5  The Lord of the Rings: The Return of the King          2003   \n",
            "\n",
            "  Certificate  Runtime                     Genre  IMDB_Rating  \\\n",
            "0           A  175 min              Crime, Drama          9.2   \n",
            "1          UA  152 min      Action, Crime, Drama          9.0   \n",
            "2           A  202 min              Crime, Drama          9.0   \n",
            "3           U   96 min              Crime, Drama          9.0   \n",
            "4           U  201 min  Action, Adventure, Drama          8.9   \n",
            "\n",
            "                                            Overview  Meta_score  \\\n",
            "0  An organized crime dynasty's aging patriarch t...       100.0   \n",
            "1  When the menace known as the Joker wreaks havo...        84.0   \n",
            "2  The early life and career of Vito Corleone in ...        90.0   \n",
            "3  A jury holdout attempts to prevent a miscarria...        96.0   \n",
            "4  Gandalf and Aragorn lead the World of Men agai...        94.0   \n",
            "\n",
            "               Director           Star1            Star2          Star3  \\\n",
            "0  Francis Ford Coppola   Marlon Brando        Al Pacino     James Caan   \n",
            "1     Christopher Nolan  Christian Bale     Heath Ledger  Aaron Eckhart   \n",
            "2  Francis Ford Coppola       Al Pacino   Robert De Niro  Robert Duvall   \n",
            "3          Sidney Lumet     Henry Fonda      Lee J. Cobb  Martin Balsam   \n",
            "4         Peter Jackson     Elijah Wood  Viggo Mortensen   Ian McKellen   \n",
            "\n",
            "           Star4  No_of_Votes        Gross  \n",
            "0   Diane Keaton      1620367  134,966,411  \n",
            "1  Michael Caine      2303232  534,858,444  \n",
            "2   Diane Keaton      1129952   57,300,000  \n",
            "3   John Fiedler       689845    4,360,000  \n",
            "4  Orlando Bloom      1642758  377,845,905  \n",
            "\n",
            "Informações sobre o dataset:\n",
            "<class 'pandas.core.frame.DataFrame'>\n",
            "RangeIndex: 999 entries, 0 to 998\n",
            "Data columns (total 16 columns):\n",
            " #   Column         Non-Null Count  Dtype  \n",
            "---  ------         --------------  -----  \n",
            " 0   Unnamed: 0     999 non-null    int64  \n",
            " 1   Series_Title   999 non-null    object \n",
            " 2   Released_Year  999 non-null    object \n",
            " 3   Certificate    898 non-null    object \n",
            " 4   Runtime        999 non-null    object \n",
            " 5   Genre          999 non-null    object \n",
            " 6   IMDB_Rating    999 non-null    float64\n",
            " 7   Overview       999 non-null    object \n",
            " 8   Meta_score     842 non-null    float64\n",
            " 9   Director       999 non-null    object \n",
            " 10  Star1          999 non-null    object \n",
            " 11  Star2          999 non-null    object \n",
            " 12  Star3          999 non-null    object \n",
            " 13  Star4          999 non-null    object \n",
            " 14  No_of_Votes    999 non-null    int64  \n",
            " 15  Gross          830 non-null    object \n",
            "dtypes: float64(2), int64(2), object(12)\n",
            "memory usage: 125.0+ KB\n"
          ]
        }
      ]
    },
    {
      "cell_type": "code",
      "source": [
        "# Limpeza da coluna Runtime\n",
        "df['Runtime'] = df['Runtime'].str.replace(' min', '').astype(int)\n",
        "print(\"\\nColuna Runtime limpa!\")\n",
        "print(df['Runtime'].head())\n",
        "print(\"\\nInformações atualizadas sobre o dataset:\")\n",
        "df.info()"
      ],
      "metadata": {
        "colab": {
          "base_uri": "https://localhost:8080/"
        },
        "collapsed": true,
        "id": "x-lehE6mem5Y",
        "outputId": "a73b63cb-a439-49d2-8908-f1d1007216c0"
      },
      "execution_count": 27,
      "outputs": [
        {
          "output_type": "stream",
          "name": "stdout",
          "text": [
            "\n",
            "Coluna Runtime limpa!\n",
            "0    175\n",
            "1    152\n",
            "2    202\n",
            "3     96\n",
            "4    201\n",
            "Name: Runtime, dtype: int64\n",
            "\n",
            "Informações atualizadas sobre o dataset:\n",
            "<class 'pandas.core.frame.DataFrame'>\n",
            "RangeIndex: 999 entries, 0 to 998\n",
            "Data columns (total 16 columns):\n",
            " #   Column         Non-Null Count  Dtype  \n",
            "---  ------         --------------  -----  \n",
            " 0   Unnamed: 0     999 non-null    int64  \n",
            " 1   Series_Title   999 non-null    object \n",
            " 2   Released_Year  999 non-null    object \n",
            " 3   Certificate    898 non-null    object \n",
            " 4   Runtime        999 non-null    int64  \n",
            " 5   Genre          999 non-null    object \n",
            " 6   IMDB_Rating    999 non-null    float64\n",
            " 7   Overview       999 non-null    object \n",
            " 8   Meta_score     842 non-null    float64\n",
            " 9   Director       999 non-null    object \n",
            " 10  Star1          999 non-null    object \n",
            " 11  Star2          999 non-null    object \n",
            " 12  Star3          999 non-null    object \n",
            " 13  Star4          999 non-null    object \n",
            " 14  No_of_Votes    999 non-null    int64  \n",
            " 15  Gross          830 non-null    object \n",
            "dtypes: float64(2), int64(3), object(11)\n",
            "memory usage: 125.0+ KB\n"
          ]
        }
      ]
    },
    {
      "cell_type": "code",
      "source": [
        "# Convertendo a coluna 'Released_Year' para tipo numérico, transformando erros em NaN\n",
        "df['Released_Year'] = pd.to_numeric(df['Released_Year'], errors='coerce')\n",
        "\n",
        "# Removendo as linhas onde a coluna 'Released_Year' possui valores NaN\n",
        "df.dropna(subset=['Released_Year'], inplace=True)\n",
        "\n",
        "# Convertendo a coluna para tipo inteiro\n",
        "df['Released_Year'] = df['Released_Year'].astype(int)\n",
        "\n",
        "# Verificando as mudanças\n",
        "print(\"Colunas 'Released_Year' após a limpeza:\")\n",
        "print(df['Released_Year'].head())\n",
        "print(\"\\nInformações do DataFrame para confirmar a mudança de tipo de dado:\")\n",
        "df.info()\n"
      ],
      "metadata": {
        "colab": {
          "base_uri": "https://localhost:8080/"
        },
        "collapsed": true,
        "id": "yooJOS82fzT-",
        "outputId": "4b470fbc-fc58-462c-c4f3-5352fc2d5cc4"
      },
      "execution_count": 28,
      "outputs": [
        {
          "output_type": "stream",
          "name": "stdout",
          "text": [
            "Colunas 'Released_Year' após a limpeza:\n",
            "0    1972\n",
            "1    2008\n",
            "2    1974\n",
            "3    1957\n",
            "4    2003\n",
            "Name: Released_Year, dtype: int64\n",
            "\n",
            "Informações do DataFrame para confirmar a mudança de tipo de dado:\n",
            "<class 'pandas.core.frame.DataFrame'>\n",
            "Index: 998 entries, 0 to 998\n",
            "Data columns (total 16 columns):\n",
            " #   Column         Non-Null Count  Dtype  \n",
            "---  ------         --------------  -----  \n",
            " 0   Unnamed: 0     998 non-null    int64  \n",
            " 1   Series_Title   998 non-null    object \n",
            " 2   Released_Year  998 non-null    int64  \n",
            " 3   Certificate    897 non-null    object \n",
            " 4   Runtime        998 non-null    int64  \n",
            " 5   Genre          998 non-null    object \n",
            " 6   IMDB_Rating    998 non-null    float64\n",
            " 7   Overview       998 non-null    object \n",
            " 8   Meta_score     841 non-null    float64\n",
            " 9   Director       998 non-null    object \n",
            " 10  Star1          998 non-null    object \n",
            " 11  Star2          998 non-null    object \n",
            " 12  Star3          998 non-null    object \n",
            " 13  Star4          998 non-null    object \n",
            " 14  No_of_Votes    998 non-null    int64  \n",
            " 15  Gross          829 non-null    object \n",
            "dtypes: float64(2), int64(4), object(10)\n",
            "memory usage: 132.5+ KB\n"
          ]
        }
      ]
    },
    {
      "cell_type": "code",
      "source": [
        "# Removendo as vírgulas da coluna 'Gross'\n",
        "df['Gross'] = df['Gross'].str.replace(',', '')\n",
        "\n",
        "# Convertendo a coluna 'Gross' para o tipo float para que seja numérica\n",
        "df['Gross'] = pd.to_numeric(df['Gross'], errors='coerce')\n",
        "\n",
        "# Verificando as mudanças\n",
        "print(\"Colunas 'Gross' após a limpeza:\")\n",
        "print(df['Gross'].head())\n",
        "print(\"\\nInformações do DataFrame para confirmar a mudança de tipo de dado:\")\n",
        "df.info()"
      ],
      "metadata": {
        "colab": {
          "base_uri": "https://localhost:8080/"
        },
        "collapsed": true,
        "id": "GY9oc4Pghpr9",
        "outputId": "993376d7-b557-48d7-a5dd-c9d314e62109"
      },
      "execution_count": 29,
      "outputs": [
        {
          "output_type": "stream",
          "name": "stdout",
          "text": [
            "Colunas 'Gross' após a limpeza:\n",
            "0    134966411.0\n",
            "1    534858444.0\n",
            "2     57300000.0\n",
            "3      4360000.0\n",
            "4    377845905.0\n",
            "Name: Gross, dtype: float64\n",
            "\n",
            "Informações do DataFrame para confirmar a mudança de tipo de dado:\n",
            "<class 'pandas.core.frame.DataFrame'>\n",
            "Index: 998 entries, 0 to 998\n",
            "Data columns (total 16 columns):\n",
            " #   Column         Non-Null Count  Dtype  \n",
            "---  ------         --------------  -----  \n",
            " 0   Unnamed: 0     998 non-null    int64  \n",
            " 1   Series_Title   998 non-null    object \n",
            " 2   Released_Year  998 non-null    int64  \n",
            " 3   Certificate    897 non-null    object \n",
            " 4   Runtime        998 non-null    int64  \n",
            " 5   Genre          998 non-null    object \n",
            " 6   IMDB_Rating    998 non-null    float64\n",
            " 7   Overview       998 non-null    object \n",
            " 8   Meta_score     841 non-null    float64\n",
            " 9   Director       998 non-null    object \n",
            " 10  Star1          998 non-null    object \n",
            " 11  Star2          998 non-null    object \n",
            " 12  Star3          998 non-null    object \n",
            " 13  Star4          998 non-null    object \n",
            " 14  No_of_Votes    998 non-null    int64  \n",
            " 15  Gross          829 non-null    float64\n",
            "dtypes: float64(3), int64(4), object(9)\n",
            "memory usage: 132.5+ KB\n"
          ]
        }
      ]
    },
    {
      "cell_type": "code",
      "source": [
        "# Removendo todas as linhas que contêm pelo menos um valor ausente (NaN).\n",
        "# O parâmetro 'inplace=True' modifica o DataFrame diretamente.\n",
        "df.dropna(inplace=True)\n",
        "\n",
        "# Verificando as mudanças\n",
        "print(\"Shape do DataFrame após a remoção de valores ausentes:\")\n",
        "print(df.shape)\n",
        "print(\"\\nInformações do DataFrame para confirmar que não há mais valores nulos:\")\n",
        "df.info()"
      ],
      "metadata": {
        "colab": {
          "base_uri": "https://localhost:8080/"
        },
        "collapsed": true,
        "id": "K0D3G8iriKpw",
        "outputId": "a3dde0a4-2ef2-4466-c4bf-c9292cc2e486"
      },
      "execution_count": 30,
      "outputs": [
        {
          "output_type": "stream",
          "name": "stdout",
          "text": [
            "Shape do DataFrame após a remoção de valores ausentes:\n",
            "(712, 16)\n",
            "\n",
            "Informações do DataFrame para confirmar que não há mais valores nulos:\n",
            "<class 'pandas.core.frame.DataFrame'>\n",
            "Index: 712 entries, 0 to 996\n",
            "Data columns (total 16 columns):\n",
            " #   Column         Non-Null Count  Dtype  \n",
            "---  ------         --------------  -----  \n",
            " 0   Unnamed: 0     712 non-null    int64  \n",
            " 1   Series_Title   712 non-null    object \n",
            " 2   Released_Year  712 non-null    int64  \n",
            " 3   Certificate    712 non-null    object \n",
            " 4   Runtime        712 non-null    int64  \n",
            " 5   Genre          712 non-null    object \n",
            " 6   IMDB_Rating    712 non-null    float64\n",
            " 7   Overview       712 non-null    object \n",
            " 8   Meta_score     712 non-null    float64\n",
            " 9   Director       712 non-null    object \n",
            " 10  Star1          712 non-null    object \n",
            " 11  Star2          712 non-null    object \n",
            " 12  Star3          712 non-null    object \n",
            " 13  Star4          712 non-null    object \n",
            " 14  No_of_Votes    712 non-null    int64  \n",
            " 15  Gross          712 non-null    float64\n",
            "dtypes: float64(3), int64(4), object(9)\n",
            "memory usage: 94.6+ KB\n"
          ]
        }
      ]
    },
    {
      "cell_type": "markdown",
      "source": [
        "##  Engenharia de Features"
      ],
      "metadata": {
        "id": "Qh2q7lvu_nL0"
      }
    },
    {
      "cell_type": "code",
      "source": [
        "# Tratamento da coluna 'Genre' com One-Hot Encoding\n",
        "df['Genre'] = df['Genre'].str.lower().str.strip()\n",
        "genres_expanded = df['Genre'].str.get_dummies(sep=', ')\n",
        "df['No_of_Votes'] = np.log1p(df['No_of_Votes'])\n",
        "df['Gross'] = np.log1p(df['Gross'])\n",
        "\n",
        "# Verificando dos novos dados\n",
        "print(\"Primeiras 5 linhas das novas colunas de Gênero:\")\n",
        "print(genres_expanded.head())\n",
        "print(\"\\nPrimeiras 5 linhas das colunas transformadas (log):\")\n",
        "print(df[['No_of_Votes', 'Gross']].head())"
      ],
      "metadata": {
        "colab": {
          "base_uri": "https://localhost:8080/"
        },
        "collapsed": true,
        "id": "9lb1wnvYkK3y",
        "outputId": "197ba386-d54d-4d7e-9768-278d799b737f"
      },
      "execution_count": 31,
      "outputs": [
        {
          "output_type": "stream",
          "name": "stdout",
          "text": [
            "Primeiras 5 linhas das novas colunas de Gênero:\n",
            "   action  adventure  animation  biography  comedy  crime  drama  family  \\\n",
            "0       0          0          0          0       0      1      1       0   \n",
            "1       1          0          0          0       0      1      1       0   \n",
            "2       0          0          0          0       0      1      1       0   \n",
            "3       0          0          0          0       0      1      1       0   \n",
            "4       1          1          0          0       0      0      1       0   \n",
            "\n",
            "   fantasy  film-noir  ...  horror  music  musical  mystery  romance  sci-fi  \\\n",
            "0        0          0  ...       0      0        0        0        0       0   \n",
            "1        0          0  ...       0      0        0        0        0       0   \n",
            "2        0          0  ...       0      0        0        0        0       0   \n",
            "3        0          0  ...       0      0        0        0        0       0   \n",
            "4        0          0  ...       0      0        0        0        0       0   \n",
            "\n",
            "   sport  thriller  war  western  \n",
            "0      0         0    0        0  \n",
            "1      0         0    0        0  \n",
            "2      0         0    0        0  \n",
            "3      0         0    0        0  \n",
            "4      0         0    0        0  \n",
            "\n",
            "[5 rows x 21 columns]\n",
            "\n",
            "Primeiras 5 linhas das colunas transformadas (log):\n",
            "   No_of_Votes      Gross\n",
            "0    14.298164  18.720537\n",
            "1    14.649824  20.097513\n",
            "2    13.937687  17.863811\n",
            "3    13.444224  15.287983\n",
            "4    14.311888  19.749997\n"
          ]
        }
      ]
    },
    {
      "cell_type": "markdown",
      "source": [
        "## Construção e Treinamento do Modelo"
      ],
      "metadata": {
        "id": "VcxWS8XBABV1"
      }
    },
    {
      "cell_type": "code",
      "source": [
        "# Definindo as variáveis que o modelo irá usar\n",
        "# 'IMDB_Rating' é a variável alvo (y)\n",
        "y = df['IMDB_Rating']\n",
        "\n",
        "features_numericas = ['Released_Year', 'Runtime', 'No_of_Votes', 'Gross', 'Meta_score']\n",
        "X = pd.concat([df[features_numericas], genres_expanded], axis=1)\n",
        "\n",
        "# Dividindo os dados para treino e teste (80% para treino, 20% para teste)\n",
        "X_train, X_test, y_train, y_test = train_test_split(X, y, test_size=0.2, random_state=42)\n",
        "print(\"Dados divididos em conjuntos de treino e teste.\")\n",
        "\n",
        "# Treinando o modelo Random Forest\n",
        "modelo_rf = RandomForestRegressor(n_estimators=100, random_state=42)\n",
        "modelo_rf.fit(X_train, y_train)\n",
        "print(\"Modelo treinado com sucesso!\")\n",
        "\n",
        "# Fazendo previsões nos dados de teste\n",
        "y_pred = modelo_rf.predict(X_test)\n",
        "\n",
        "# Avaliando o desempenho do modelo\n",
        "mse = mean_squared_error(y_test, y_pred)\n",
        "r2 = r2_score(y_test, y_pred)\n",
        "\n",
        "print(\"\\n--- Resultados de Desempenho do Modelo ---\")\n",
        "print(f\"MSE (Erro Quadrático Médio): {mse:.4f}\")\n",
        "print(f\"R² (Coeficiente de Determinação): {r2:.4f}\")\n",
        "\n",
        "# Salva o modelo treinado em um arquivo .pkl para uso futuro\n",
        "joblib.dump(modelo_rf, 'modelo_imdb.pkl')\n",
        "print(\"\\nModelo salvo com sucesso!\")"
      ],
      "metadata": {
        "colab": {
          "base_uri": "https://localhost:8080/"
        },
        "id": "WQUbTspokna8",
        "outputId": "1238c44a-4247-4c25-b7d9-ce994ac9aaa2"
      },
      "execution_count": 32,
      "outputs": [
        {
          "output_type": "stream",
          "name": "stdout",
          "text": [
            "Dados divididos em conjuntos de treino e teste.\n",
            "Modelo treinado com sucesso!\n",
            "\n",
            "--- Resultados de Desempenho do Modelo ---\n",
            "MSE (Erro Quadrático Médio): 0.0351\n",
            "R² (Coeficiente de Determinação): 0.5809\n",
            "\n",
            "Modelo salvo com sucesso!\n"
          ]
        }
      ]
    },
    {
      "cell_type": "code",
      "source": [
        "# Criando o gráfico de dispersão\n",
        "plt.figure(figsize=(10, 6))\n",
        "plt.scatter(y_test, y_pred, alpha=0.6)\n",
        "\n",
        "# Adicionando a linha de regressão ideal (y=x)\n",
        "plt.plot([y_test.min(), y_test.max()], [y_test.min(), y_test.max()], 'r--', lw=2)\n",
        "\n",
        "# Adicionando o valor do R² no gráfico\n",
        "r2_valor = 0.5810\n",
        "plt.text(x=7.0, y=9.0, s=f'R²: {r2_valor:.4f}', fontsize=12, color='black')\n",
        "\n",
        "plt.xlabel('Notas Reais (IMDB_Rating)')\n",
        "plt.ylabel('Notas Previstas')\n",
        "plt.title('Gráfico de Valores Reais vs. Previstos')\n",
        "plt.grid(True)\n",
        "plt.show()"
      ],
      "metadata": {
        "colab": {
          "base_uri": "https://localhost:8080/",
          "height": 564
        },
        "id": "pDAyH9FcoPFV",
        "outputId": "1a87a9a0-2d00-4551-df3f-ef12b9033bbf",
        "collapsed": true
      },
      "execution_count": 33,
      "outputs": [
        {
          "output_type": "display_data",
          "data": {
            "text/plain": [
              "<Figure size 1000x600 with 1 Axes>"
            ],
            "image/png": "[encoded data removed]"
          },
          "metadata": {}
        }
      ]
    },
    {
      "cell_type": "markdown",
      "source": [
        "## Teste Prático do Modelo com Dados Reais\n"
      ],
      "metadata": {
        "id": "cqV0y95SFtlI"
      }
    },
    {
      "cell_type": "code",
      "source": [
        "# Dados do filme\n",
        "filme = {\n",
        "    'Released_Year': 1994,\n",
        "    'Runtime': 142,\n",
        "    'Meta_score': 80.0,\n",
        "    'No_of_Votes': 2343110,\n",
        "    'Gross': 28341469,\n",
        "    'Genre': 'drama'\n",
        "}\n",
        "\n",
        "# Transformações logarítmicas\n",
        "filme['No_of_Votes'] = np.log1p(filme['No_of_Votes'])\n",
        "filme['Gross'] = np.log1p(filme['Gross'])\n",
        "\n",
        "# Lista completa de gêneros usados no modelo (incluindo 'film-noir')\n",
        "generos_modelo = [\n",
        "    'action', 'adventure', 'animation', 'biography', 'comedy', 'crime', 'drama',\n",
        "    'family', 'fantasy', 'film-noir', 'history', 'horror', 'music', 'musical',\n",
        "    'mystery', 'romance', 'sci-fi', 'sport', 'thriller', 'war', 'western'\n",
        "]\n",
        "\n",
        "# One-Hot Encoding manual para o gênero do filme\n",
        "generos_filme = filme['Genre'].lower().strip().split(', ')\n",
        "generos_dummies = {g: int(g in generos_filme) for g in generos_modelo}\n",
        "\n",
        "# Montando o DataFrame com todas as features\n",
        "features_numericas = ['Released_Year', 'Runtime', 'No_of_Votes', 'Gross', 'Meta_score']\n",
        "dados_filme = pd.DataFrame([{**{k: filme[k] for k in features_numericas}, **generos_dummies}])\n",
        "\n",
        "# Fazendo a previsão diretamente com o modelo já treinado\n",
        "nota_prevista = modelo_rf.predict(dados_filme)[0]\n",
        "print(f\"Nota prevista do IMDb para 'The Shawshank Redemption': {nota_prevista:.2f}\")"
      ],
      "metadata": {
        "colab": {
          "base_uri": "https://localhost:8080/"
        },
        "id": "K1XfM28XHQAw",
        "outputId": "8da97cec-5323-4c23-e47f-4e8f516eff0b"
      },
      "execution_count": 34,
      "outputs": [
        {
          "output_type": "stream",
          "name": "stdout",
          "text": [
            "Nota prevista do IMDb para 'The Shawshank Redemption': 8.79\n"
          ]
        }
      ]
    }
  ]
}